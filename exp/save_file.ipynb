{
 "cells": [
  {
   "cell_type": "code",
   "execution_count": 1,
   "metadata": {},
   "outputs": [
    {
     "name": "stderr",
     "output_type": "stream",
     "text": [
      "/home/is/hikaru-si/.pyenv/versions/3.8.6/envs/exp_005/lib/python3.8/site-packages/tqdm/auto.py:22: TqdmWarning: IProgress not found. Please update jupyter and ipywidgets. See https://ipywidgets.readthedocs.io/en/stable/user_install.html\n",
      "  from .autonotebook import tqdm as notebook_tqdm\n"
     ]
    }
   ],
   "source": [
    "import argparse\n",
    "from cProfile import label\n",
    "import os\n",
    "from PIL import Image\n",
    "import pickle\n",
    "import sys\n",
    "\n",
    "import torch\n",
    "from transformers import LayoutLMv3FeatureExtractor, LayoutLMv3Tokenizer\n",
    "from torchvision import transforms\n",
    "from dall_e.utils import map_pixels\n",
    "from dall_e import load_model\n",
    "\n",
    "sys.path.append('../src')\n",
    "from utils import utils, masking_generator\n",
    "from utils.slack import notification_slack"
   ]
  },
  {
   "cell_type": "code",
   "execution_count": 12,
   "metadata": {},
   "outputs": [],
   "source": [
    "parser = argparse.ArgumentParser()\n",
    "parser.add_argument(\"--tokenizer_vocab_dir\", type=str)\n",
    "parser.add_argument(\"--image_file_dir\", type=str, required=True)\n",
    "parser.add_argument(\"--pdf_file_dir\", type=str, required=True)\n",
    "parser.add_argument(\"--output_dir\", type=str, required=True)\n",
    "parser.add_argument(\"--output_filename\", type=str, required=True)\n",
    "parser.add_argument(\"--datasize\", type=int)\n",
    "args_list = [\n",
    "  \"--tokenizer_vocab_dir\", \"../data/vocab/tokenizer_vocab/\",\n",
    "  \"--image_file_dir\", \"../../datasets/pdfs/images/train/\",\n",
    "  \"--pdf_file_dir\", \"../../datasets/pdfs/images/train/\",\n",
    "  \"--output_dir\", \"../data/preprocessing_shared/\",\n",
    "  \"--output_filename\", \"encoded_dataset_mim_30000.pkl\",\n",
    "  \"--datasize\", \"30000\",\n",
    "]\n",
    "args = parser.parse_args(args_list)\n"
   ]
  },
  {
   "cell_type": "code",
   "execution_count": 7,
   "metadata": {},
   "outputs": [
    {
     "data": {
      "text/plain": [
       "Namespace(datasize=50000, image_file_dir='../datasets/pdfs/images/train/', output_dir='./data/preprocessing_shared/', output_filename='encoded_dataset_mim_50000.pkl', pdf_file_dir='../datasets/pdfs/images/train/', tokenizer_vocab_dir='../data/vocab/tokenizer_vocab/')"
      ]
     },
     "execution_count": 7,
     "metadata": {},
     "output_type": "execute_result"
    }
   ],
   "source": [
    "args"
   ]
  },
  {
   "cell_type": "code",
   "execution_count": 2,
   "metadata": {},
   "outputs": [],
   "source": [
    "window_size = (14, 14)\n",
    "num_masking_patches = 75\n",
    "max_mask_patches_per_block = None\n",
    "min_mask_patches_per_block = 16\n",
    "\n",
    "# generating mask for the corresponding image\n",
    "mask_generator = masking_generator.MaskingGenerator(\n",
    "            window_size, num_masking_patches=num_masking_patches,\n",
    "            max_num_patches=max_mask_patches_per_block,\n",
    "            min_num_patches=min_mask_patches_per_block,\n",
    "        )"
   ]
  },
  {
   "cell_type": "code",
   "execution_count": 9,
   "metadata": {},
   "outputs": [],
   "source": [
    "device = torch.device('cpu')\n",
    "encoder = load_model(\"https://cdn.openai.com/dall-e/encoder.pkl\", device)\n",
    "tokenizer = LayoutLMv3Tokenizer(f\"{args.tokenizer_vocab_dir}vocab.json\", f\"{args.tokenizer_vocab_dir}merges.txt\")\n",
    "ids = range(tokenizer.vocab_size)\n",
    "vocab = tokenizer.convert_ids_to_tokens(ids)"
   ]
  },
  {
   "cell_type": "code",
   "execution_count": 13,
   "metadata": {},
   "outputs": [],
   "source": [
    "image_names = os.listdir(args.image_file_dir)\n",
    "if hasattr(args, 'datasize'):\n",
    "    image_names = image_names[:args.datasize]\n",
    "file_names = []\n",
    "for n in image_names:\n",
    "    name = os.path.splitext(n)[0]\n",
    "    file_names.append(name)"
   ]
  },
  {
   "cell_type": "code",
   "execution_count": null,
   "metadata": {},
   "outputs": [],
   "source": [
    "len(file_names)"
   ]
  },
  {
   "cell_type": "code",
   "execution_count": null,
   "metadata": {},
   "outputs": [],
   "source": [
    "words, bboxes = utils.extraction_text_from_pdf(args.pdf_file_dir, file_names)"
   ]
  }
 ],
 "metadata": {
  "kernelspec": {
   "display_name": "Python 3.8.6 64-bit ('exp_005')",
   "language": "python",
   "name": "python3"
  },
  "language_info": {
   "codemirror_mode": {
    "name": "ipython",
    "version": 3
   },
   "file_extension": ".py",
   "mimetype": "text/x-python",
   "name": "python",
   "nbconvert_exporter": "python",
   "pygments_lexer": "ipython3",
   "version": "3.8.6"
  },
  "orig_nbformat": 4,
  "vscode": {
   "interpreter": {
    "hash": "b46bb9fe42bf29cda1078546925c7ce66ab74e8066732926e47e293312739327"
   }
  }
 },
 "nbformat": 4,
 "nbformat_minor": 2
}
