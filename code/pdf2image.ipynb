{
 "cells": [
  {
   "cell_type": "code",
   "execution_count": 1,
   "metadata": {},
   "outputs": [],
   "source": [
    "import os\n",
    "import fitz\n",
    "\n",
    "\n",
    "file_names = []\n",
    "pdf_names = os.listdir(\"../../datasets/pdfs/train\")\n",
    "\n",
    "for n in pdf_names:\n",
    "    name = os.path.splitext(n)[0]\n",
    "    file_names.append(name)\n",
    "\n",
    "for file_name in file_names[:3]:\n",
    "    try:\n",
    "        doc = fitz.open(f'../../datasets/pdfs/train/{file_name}.pdf')\n",
    "        count = doc.page_count\n",
    "        if count > 1:\n",
    "            print(\"page over 1: \",count)\n",
    "        page = doc.load_page(0)\n",
    "        pix = page.get_pixmap()\n",
    "      \n",
    "        pix.save(f\"../../datasets/pdfs/images/train/{file_name}.png\")\n",
    "    except Exception as e:\n",
    "        print(\"error!\", file_name, e)\n",
    "\n"
   ]
  },
  {
   "cell_type": "code",
   "execution_count": null,
   "metadata": {},
   "outputs": [],
   "source": []
  }
 ],
 "metadata": {
  "kernelspec": {
   "display_name": "Python 3 (ipykernel)",
   "language": "python",
   "name": "python3"
  },
  "language_info": {
   "codemirror_mode": {
    "name": "ipython",
    "version": 3
   },
   "file_extension": ".py",
   "mimetype": "text/x-python",
   "name": "python",
   "nbconvert_exporter": "python",
   "pygments_lexer": "ipython3",
   "version": "3.8.6"
  },
  "vscode": {
   "interpreter": {
    "hash": "ed9d3482635d4e43638b77fdbbdc07364c0ecb02b483d7d118a9a24150715fbf"
   }
  }
 },
 "nbformat": 4,
 "nbformat_minor": 4
}
