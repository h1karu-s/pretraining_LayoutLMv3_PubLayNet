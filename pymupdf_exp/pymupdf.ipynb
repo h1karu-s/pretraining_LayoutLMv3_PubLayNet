{
 "cells": [
  {
   "cell_type": "code",
   "execution_count": 1,
   "metadata": {},
   "outputs": [
    {
     "name": "stderr",
     "output_type": "stream",
     "text": [
      "/home/is/hikaru-si/.pyenv/versions/3.8.6/envs/exp_005/lib/python3.8/site-packages/tqdm/auto.py:22: TqdmWarning: IProgress not found. Please update jupyter and ipywidgets. See https://ipywidgets.readthedocs.io/en/stable/user_install.html\n",
      "  from .autonotebook import tqdm as notebook_tqdm\n"
     ]
    }
   ],
   "source": [
    "from transformers import LayoutLMv3FeatureExtractor\n",
    "from PIL import Image, ImageDraw\n",
    "import sys\n",
    "import fitz\n",
    "import os \n",
    "sys.path.append('../src')\n",
    "from utils import utils"
   ]
  },
  {
   "cell_type": "code",
   "execution_count": 2,
   "metadata": {},
   "outputs": [
    {
     "data": {
      "text/plain": [
       "('PMC4494244_00006.pdf', 335703)"
      ]
     },
     "execution_count": 2,
     "metadata": {},
     "output_type": "execute_result"
    }
   ],
   "source": [
    "file_names = os.listdir(\"../../datasets/pdfs/train\")\n",
    "file_names[0], len(file_names)"
   ]
  },
  {
   "cell_type": "code",
   "execution_count": 3,
   "metadata": {},
   "outputs": [],
   "source": [
    "names = []\n",
    "for n in file_names[900:905]:\n",
    "    name = os.path.splitext(n)[0]\n",
    "    names.append(name)"
   ]
  },
  {
   "cell_type": "code",
   "execution_count": 4,
   "metadata": {},
   "outputs": [
    {
     "data": {
      "text/plain": [
       "['PMC5705759_00002',\n",
       " 'PMC4657378_00005',\n",
       " 'PMC3588147_00002',\n",
       " 'PMC4004984_00004',\n",
       " 'PMC3722486_00010']"
      ]
     },
     "execution_count": 4,
     "metadata": {},
     "output_type": "execute_result"
    }
   ],
   "source": [
    "names"
   ]
  },
  {
   "cell_type": "code",
   "execution_count": 10,
   "metadata": {},
   "outputs": [],
   "source": [
    "words, bboxes = utils.extraction_text_from_pdf(\"../../datasets/pdfs/train/\",names)"
   ]
  },
  {
   "cell_type": "code",
   "execution_count": 5,
   "metadata": {},
   "outputs": [
    {
     "name": "stdout",
     "output_type": "stream",
     "text": [
      "normal 595.276 790.866\n",
      "rect_width 595.2760009765625 790.8660278320312\n",
      "normal 595.276 793.701\n",
      "rect_width 595.2760009765625 793.7009887695312\n",
      "normal 595.276 782.362\n",
      "rect_width 595.2760009765625 782.3619995117188\n",
      "normal 595.276 841.89\n",
      "rect_width 595.2760009765625 841.8900146484375\n",
      "normal 595.276 793.701\n",
      "rect_width 595.2760009765625 793.7009887695312\n"
     ]
    }
   ],
   "source": [
    "size = []\n",
    "for i,name in enumerate(names):\n",
    "  doc = fitz.open(f\"../../datasets/pdfs/train/{name}.pdf\")\n",
    "  for page in doc:\n",
    "    meta = page.get_text(\"words\")\n",
    "    width = page.mediabox[2]\n",
    "    height = page.mediabox[3]\n",
    "    pdf_width = page.rect.width\n",
    "    pdf_height = page.rect.height\n",
    "    print(\"normal\", width, height)\n",
    "    print(\"rect_width\", pdf_width, pdf_height)\n",
    "    pix = page.get_pixmap()\n",
    "    pix.save(f\"./data/{i+10}.png\")"
   ]
  },
  {
   "cell_type": "code",
   "execution_count": 11,
   "metadata": {},
   "outputs": [
    {
     "data": {
      "text/plain": [
       "(['PMC5705759_00002',\n",
       "  'PMC4657378_00005',\n",
       "  'PMC3588147_00002',\n",
       "  'PMC4004984_00004',\n",
       "  'PMC3722486_00010'],\n",
       " 5)"
      ]
     },
     "execution_count": 11,
     "metadata": {},
     "output_type": "execute_result"
    }
   ],
   "source": [
    "names,len(words)"
   ]
  },
  {
   "cell_type": "code",
   "execution_count": null,
   "metadata": {},
   "outputs": [],
   "source": [
    "# rect = Image.new(\"RGBA\", (1000, 1000), (0, 0, 255))\n",
    "# rect_d = ImageDraw.Draw(rect)\n",
    "\n",
    "# for b in text_bbox.tolist():\n",
    "#   rect_d.rectangle(b, outline=(0, 255, 0))\n",
    "# for b in text_bbox[l].tolist():\n",
    "#   rect_d.rectangle(b, fill=(0, 225, 0), outline=(0, 255, 225))\n",
    "# for b in visual_bbox[bool_mi_pos[2]].tolist():\n",
    "#   rect_d.rectangle(b, outline=(225, 0, 0))\n",
    "\n",
    "# rect.show()\n",
    "# rect.save(\"mask.png\")"
   ]
  },
  {
   "cell_type": "code",
   "execution_count": 15,
   "metadata": {},
   "outputs": [
    {
     "data": {
      "text/plain": [
       "['PMC5705759_00002',\n",
       " 'PMC4657378_00005',\n",
       " 'PMC3588147_00002',\n",
       " 'PMC4004984_00004',\n",
       " 'PMC3722486_00010']"
      ]
     },
     "execution_count": 15,
     "metadata": {},
     "output_type": "execute_result"
    }
   ],
   "source": [
    "names"
   ]
  },
  {
   "cell_type": "code",
   "execution_count": 16,
   "metadata": {},
   "outputs": [
    {
     "name": "stderr",
     "output_type": "stream",
     "text": [
      "Error: no \"view\" mailcap rules found for type \"image/png\"\n",
      "Error: no \"view\" mailcap rules found for type \"image/png\"\n",
      "Error: no \"view\" mailcap rules found for type \"image/png\"\n",
      "Error: no \"view\" mailcap rules found for type \"image/png\"\n",
      "Error: no \"view\" mailcap rules found for type \"image/png\"\n"
     ]
    }
   ],
   "source": [
    "for i, name in enumerate(names):\n",
    "    rect = Image.new(\"RGBA\", (1000, 1000), (0, 0, 255))\n",
    "    rect_d = ImageDraw.Draw(rect)\n",
    "    for b in bboxes[i]:\n",
    "        rect_d.rectangle(b, outline=(0, 255, 225))\n",
    "    rect.show()\n",
    "    rect.save(f\"./data/{i+10}_bboxes.png\")"
   ]
  },
  {
   "cell_type": "code",
   "execution_count": null,
   "metadata": {},
   "outputs": [],
   "source": []
  }
 ],
 "metadata": {
  "kernelspec": {
   "display_name": "Python 3.8.6 64-bit ('exp_005')",
   "language": "python",
   "name": "python3"
  },
  "language_info": {
   "codemirror_mode": {
    "name": "ipython",
    "version": 3
   },
   "file_extension": ".py",
   "mimetype": "text/x-python",
   "name": "python",
   "nbconvert_exporter": "python",
   "pygments_lexer": "ipython3",
   "version": "3.8.6"
  },
  "orig_nbformat": 4,
  "vscode": {
   "interpreter": {
    "hash": "b46bb9fe42bf29cda1078546925c7ce66ab74e8066732926e47e293312739327"
   }
  }
 },
 "nbformat": 4,
 "nbformat_minor": 2
}
